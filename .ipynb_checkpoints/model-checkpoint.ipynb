{
 "cells": [
  {
   "cell_type": "code",
   "execution_count": 2,
   "metadata": {},
   "outputs": [],
   "source": [
    "from d2l import torch as d2l\n",
    "from torch import nn\n",
    "from torch.nn import functional as F\n",
    "import numpy as np\n",
    "import torch\n",
    "from torchvision import models\n",
    "import torchvision\n",
    "import math"
   ]
  },
  {
   "cell_type": "code",
   "execution_count": 2,
   "metadata": {},
   "outputs": [],
   "source": [
    "def get_ResNet_net(devices):\n",
    "    model = models.__dict__['resnet50']()\n",
    "\n",
    "    finetune_net = nn.Sequential()\n",
    "    finetune_net.features = torchvision.models.resnet50(pretrained=True)\n",
    "    \n",
    "    \n",
    "    finetune_net.output_new = nn.Sequential(nn.Linear(1000, 512),\n",
    "                                            nn.ReLU(),\n",
    "                                            nn.Dropout(0.5),\n",
    "                                            nn.Linear(512, 256),\n",
    "                                            nn.ReLU(),\n",
    "                                            nn.Dropout(0.5),\n",
    "                                            nn.Linear(256, 2))\n",
    "    finetune_net = finetune_net.to(devices[0])\n",
    "    for param in finetune_net.features.parameters():\n",
    "        param.requires_grad = False\n",
    "    return finetune_net"
   ]
  },
  {
   "cell_type": "code",
   "execution_count": 3,
   "metadata": {},
   "outputs": [],
   "source": [
    "def get_Dino_net(devices):\n",
    "    model = models.__dict__['resnet50']()\n",
    "\n",
    "    finetune_net = nn.Sequential()\n",
    "    finetune_net.features = torch.hub.load('facebookresearch/dino:main', 'dino_resnet50')\n",
    "    \n",
    "    \n",
    "    finetune_net.output_new = nn.Sequential(nn.Linear(2048, 1000),\n",
    "                                            nn.ReLU(),\n",
    "                                            nn.Dropout(0.5),\n",
    "                                            nn.Linear(1000, 512),\n",
    "                                            nn.ReLU(),\n",
    "                                            nn.Dropout(0.5),\n",
    "                                            nn.Linear(512, 256),\n",
    "                                            nn.ReLU(),\n",
    "                                            nn.Dropout(0.5),\n",
    "                                            nn.Linear(256, 2))\n",
    "    finetune_net = finetune_net.to(devices[0])\n",
    "    for param in finetune_net.features.parameters():\n",
    "        param.requires_grad = False\n",
    "    return finetune_net\n"
   ]
  },
  {
   "cell_type": "code",
   "execution_count": 4,
   "metadata": {},
   "outputs": [],
   "source": [
    "def get_Dino_Vit_net(devices):\n",
    "    linear_keyword = 'head'\n",
    "    finetune_net = nn.Sequential()\n",
    "    finetune_net.features = torch.hub.load('facebookresearch/dino:main', 'dino_vitb16')\n",
    "\n",
    "    finetune_net.output_new = nn.Sequential(nn.Linear(768, 256),\n",
    "                                            nn.ReLU(),\n",
    "                                            nn.Dropout(0.5),\n",
    "                                            nn.Linear(256, 128),\n",
    "                                            nn.ReLU(),\n",
    "                                            nn.Dropout(0.5),\n",
    "                                            nn.Linear(128, 2))\n",
    "    finetune_net = finetune_net.to(devices[0])\n",
    "    for param in finetune_net.features.parameters():\n",
    "        param.requires_grad = False\n",
    "    \n",
    "    return finetune_net"
   ]
  },
  {
   "cell_type": "code",
   "execution_count": null,
   "metadata": {},
   "outputs": [],
   "source": []
  }
 ],
 "metadata": {
  "kernelspec": {
   "display_name": "Python [conda env:pytorch_env]",
   "language": "python",
   "name": "conda-env-pytorch_env-py"
  },
  "language_info": {
   "codemirror_mode": {
    "name": "ipython",
    "version": 3
   },
   "file_extension": ".py",
   "mimetype": "text/x-python",
   "name": "python",
   "nbconvert_exporter": "python",
   "pygments_lexer": "ipython3",
   "version": "3.8.13"
  }
 },
 "nbformat": 4,
 "nbformat_minor": 4
}
