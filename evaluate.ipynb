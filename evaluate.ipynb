{
 "cells": [
  {
   "cell_type": "code",
   "execution_count": 1,
   "metadata": {},
   "outputs": [
    {
     "name": "stderr",
     "output_type": "stream",
     "text": [
      "D:\\anaconda3\\envs\\pytorch_env\\lib\\site-packages\\torchaudio\\backend\\utils.py:66: UserWarning: No audio backend is available.\n",
      "  warnings.warn(\"No audio backend is available.\")\n"
     ]
    }
   ],
   "source": [
    "from torch.utils.data.dataset import Dataset\n",
    "import os\n",
    "import cv2\n",
    "from pathlib import Path\n",
    "from torchvision.transforms import transforms\n",
    "from PIL import Image\n",
    "import auxiliary\n",
    "import model\n",
    "import torch\n",
    "from d2l import torch as d2l\n",
    "import pandas as pd\n",
    "import matplotlib.pyplot as plt\n",
    "from sklearn.metrics import f1_score\n",
    "import torchmetrics\n",
    "from ignite.metrics import Precision\n",
    "from ignite.metrics import Accuracy\n",
    "from ignite.metrics import Recall"
   ]
  },
  {
   "cell_type": "code",
   "execution_count": 2,
   "metadata": {},
   "outputs": [],
   "source": [
    "class IndividualSeedDataset(Dataset):\n",
    "    def __init__(self, df, transform=None, target_transform=None):\n",
    "        self.df = df\n",
    "        self.transform = transform\n",
    "        self.target_transform = target_transform\n",
    "\n",
    "    def __len__(self):\n",
    "        return len(self.df)\n",
    "\n",
    "    def __getitem__(self, idx):\n",
    "        item = self.df.iloc[idx]\n",
    "        # it can read either from annotated file with bounding box coordinates on an image of multiple seeds or from csv\n",
    "        # file of cropped seed images\n",
    "        filenames = item[0].rsplit('.')\n",
    "        if not os.path.exists(item[0]):\n",
    "            # check uppercase JPG or lowercase jpg\n",
    "            filename = filenames[0] + '.' + filenames[1].upper()\n",
    "            if not os.path.exists(filename):\n",
    "                filename = filenames[0] + '.' + filenames[1].lower()\n",
    "                if not os.path.exists(filename):\n",
    "                    raise Exception('File does not exist!')\n",
    "        else:\n",
    "            filename = item[0]\n",
    "        image = cv2.cvtColor(cv2.imread(filename), cv2.COLOR_BGR2RGB)\n",
    "        if len(item) > 2: # read from bounding box\n",
    "            label = item[5]\n",
    "            cropped_image = image[item[2]:item[4], item[1]:item[3]]  # y_min:y_max, x_min:x_max,\n",
    "        else: # read from cropped seed image directly\n",
    "            label = item[1]\n",
    "            cropped_image = image\n",
    "\n",
    "        if label == 'GOOD':\n",
    "            label = 1\n",
    "        elif label == 'BAD':\n",
    "            label = 0\n",
    "        else:\n",
    "            raise Exception(\"Unrecognised seed label - choose from either 'GOOD' or 'BAD'\")\n",
    "        if not os.path.exists(filename):\n",
    "            print(filename)\n",
    "            raise Exception('The seed image does not exist!')\n",
    "        # normalise the cropped seed image between 0 and 1\n",
    "        #cropped_image = cv2.normalize(cropped_image, None, alpha=0, beta=1, norm_type=cv2.NORM_MINMAX, dtype=cv2.CV_32F)\n",
    "        cropped_image = cv2.resize(cropped_image, (224,224))\n",
    "        cropped_image = transforms.ToTensor()(cropped_image).float()\n",
    "        cropped_image = transforms.Normalize(mean=[0.485, 0.456, 0.406], std=[0.229, 0.224, 0.225])(cropped_image).float()\n",
    "        #### for debug only #####\n",
    "        #print(image.shape)\n",
    "        #print(idx, ': \\t', cropped_image.shape, '\\t', item[2], '\\t', item[4])\n",
    "        #########################\n",
    "\n",
    "        # if any transformation is needed, e.g., to resize the image\n",
    "        if self.transform:\n",
    "            cropped_image = self.transform(cropped_image)\n",
    "        if self.target_transform:\n",
    "            label = self.target_transform(label)\n",
    "\n",
    "        return cropped_image, label\n"
   ]
  },
  {
   "cell_type": "code",
   "execution_count": 3,
   "metadata": {},
   "outputs": [],
   "source": [
    "devices = d2l.try_all_gpus()"
   ]
  },
  {
   "cell_type": "code",
   "execution_count": 4,
   "metadata": {},
   "outputs": [],
   "source": [
    "test_data_dir = 'data/test/'\n",
    "good_seed = 'GoodSeed/'\n",
    "bad_seed = 'BadSeed/'\n",
    "csvfile = r\"./data/csv/LightBox_annotation.CSV\"\n",
    "df_batch2 = pd.read_csv(csvfile)\n",
    "csvfile = r\"./data/csv/NormalRoomLight_annotation.csv\"\n",
    "df_batch3 = pd.read_csv(csvfile)"
   ]
  },
  {
   "cell_type": "code",
   "execution_count": 5,
   "metadata": {},
   "outputs": [],
   "source": [
    "class MyDataset(Dataset):\n",
    "    def __init__(self, good_seed_root, bad_seed_root, transform=None):\n",
    "        self.transform = transforms.Compose([\n",
    "            transforms.ToTensor()      \n",
    "        ])\n",
    "        self.transform = transforms.Compose([\n",
    "            transforms.CenterCrop(180), \n",
    "            transforms.Resize(224), \n",
    "            transforms.ToTensor(), \n",
    "            transforms.Normalize(mean=[0.485, 0.456, 0.406], std=[0.229, 0.224, 0.225]) \n",
    "        ])\n",
    "        good_seed_images_path = Path(good_seed_root)\n",
    "        bad_seed_images_path = Path(bad_seed_root)\n",
    "        images_list = list(good_seed_images_path.glob('*.png')) + list(bad_seed_images_path.glob('*.png'))\n",
    "        images_list_str = [ str(x) for x in images_list ]\n",
    "        self.images = images_list_str\n",
    "\n",
    "    def __getitem__(self, item):\n",
    "        image_path = self.images[item]\n",
    "        image = Image.open(image_path) \n",
    "        image = self.transform(image)  \n",
    "        label = 1 if 'good' in image_path.split('\\\\')[-1] else 0 \n",
    "        return image, label\n",
    "\n",
    "    def __len__(self):\n",
    "        return len(self.images)"
   ]
  },
  {
   "cell_type": "code",
   "execution_count": 6,
   "metadata": {},
   "outputs": [],
   "source": [
    "good_seed_test_data_file = Path(test_data_dir, good_seed)\n",
    "bad_seed_test_data_file = Path(test_data_dir, bad_seed)\n",
    "test_data_batch1 = MyDataset(good_seed_test_data_file, bad_seed_test_data_file)\n",
    "test_data_batch2 = IndividualSeedDataset(df_batch2)\n",
    "test_data_batch3 = IndividualSeedDataset(df_batch3)\n",
    "\n",
    "test_data_batch1_dataloader = torch.utils.data.DataLoader(test_data_batch1, batch_size=128, shuffle=True)\n",
    "test_data_batch2_dataloader = torch.utils.data.DataLoader(test_data_batch2, batch_size=128, shuffle=True)\n",
    "test_data_batch3_dataloader = torch.utils.data.DataLoader(test_data_batch3, batch_size=128, shuffle=True)"
   ]
  },
  {
   "cell_type": "code",
   "execution_count": 7,
   "metadata": {},
   "outputs": [],
   "source": [
    "pthfile_Dino_resnet = './models/trained_models/net_params_604345505_lr0.0001_epoch60_Dino_Resnet50.pth'\n",
    "pthfile_resnet = './models/trained_models/net_params_704177844_lr0.0001_epoch60_Resnet50.pth'\n",
    "pthfile_Dino_Vit = './models/trained_models/net_params_643813538_lr0.0001_epoch40_Dino_vit.pth'\n",
    "pthfile_Vit = './models/trained_models/net_params_391561151_lr0.0001_epoch40_vit.pth'"
   ]
  },
  {
   "cell_type": "code",
   "execution_count": 8,
   "metadata": {},
   "outputs": [],
   "source": [
    "def evaluate_net(pthfile, test_data, net, devices):\n",
    "    sum = 0\n",
    "    if(net == 'Dino_resnet'):\n",
    "        net = model.get_Dino_net(devices)\n",
    "    elif(net == 'ResNet'):\n",
    "        net = model.get_ResNet_net(devices)\n",
    "    elif(net == 'Dino_vit'):\n",
    "        net = model.get_Dino_Vit_net(devices)\n",
    "    elif(net == 'vit'):\n",
    "        net = model.get_Vit_net(devices)\n",
    "    net_data = torch.load(pthfile)\n",
    "    net.load_state_dict(net_data)\n",
    "    net.eval()\n",
    "    net.to(devices[0])\n",
    "    for i in range(len(test_data)):\n",
    "        x = test_data[i][0].unsqueeze(0).to(devices[0])\n",
    "        y_hat = net(x).argmax(axis=1)\n",
    "        if(y_hat == test_data[i][1]):\n",
    "            sum = sum + 1\n",
    "    print(\"test accuracy is \", sum/len(test_data))"
   ]
  },
  {
   "cell_type": "code",
   "execution_count": 9,
   "metadata": {},
   "outputs": [],
   "source": [
    "def evaluate_net1(pthfile, dataloader, net, devices):\n",
    "    test_acc = torchmetrics.Accuracy(task=\"multiclass\", num_classes=2)\n",
    "    test_recall = torchmetrics.Recall(task=\"multiclass\",average='macro', num_classes=2)\n",
    "    test_precision = torchmetrics.Precision(task=\"multiclass\",average='macro', num_classes=2)\n",
    "    test_auc = torchmetrics.AUROC(task=\"multiclass\",average=\"macro\", num_classes=2)\n",
    "\n",
    "    if(net == 'Dino_resnet'):\n",
    "        net = model.get_Dino_net(devices)\n",
    "    elif(net == 'ResNet'):\n",
    "        net = model.get_ResNet_net(devices)\n",
    "    elif(net == 'Dino_vit'):\n",
    "        net = model.get_Dino_Vit_net(devices)\n",
    "    elif(net == 'vit'):\n",
    "        net = model.get_Vit_net(devices)\n",
    "    \n",
    "    size = len(dataloader.dataset)\n",
    "    num_batches = len(dataloader)\n",
    "    test_loss, correct = 0, 0\n",
    "    \n",
    "    net_data = torch.load(pthfile)\n",
    "    net.load_state_dict(net_data)\n",
    "    net.eval()\n",
    "    net.to('cpu')\n",
    "\n",
    "    with torch.no_grad():\n",
    "        for X, y in dataloader:\n",
    "            pred = net(X)\n",
    "            correct += (pred.argmax(1) == y).type(torch.float).sum().item()\n",
    "            # 一个batch进行计算迭代\n",
    "            test_acc(pred.argmax(1), y)\n",
    "            test_auc.update(pred, y)\n",
    "            test_recall(pred.argmax(1), y)\n",
    "            test_precision(pred.argmax(1), y)\n",
    "    \n",
    "    correct /= size\n",
    "\n",
    "    # 计算一个epoch的accuray、recall、precision、AUC\n",
    "    total_acc = test_acc.compute()\n",
    "    total_recall = test_recall.compute()\n",
    "    total_precision = test_precision.compute()\n",
    "    total_auc = test_auc.compute()\n",
    "    print(f\"Test Error: \\n Accuracy: {(100 * correct):>0.1f}%, \"\n",
    "          f\"torch metrics acc: {(100 * total_acc):>0.1f}%\\n\")\n",
    "    print(\"recall of every test dataset class: \", total_recall)\n",
    "    print(\"precision of every test dataset class: \", total_precision)\n",
    "    print(\"auc:\", total_auc.item())\n",
    "\n",
    "    # 清空计算对象\n",
    "    test_precision.reset()\n",
    "    test_acc.reset()\n",
    "    test_recall.reset()\n",
    "    test_auc.reset()"
   ]
  },
  {
   "cell_type": "code",
   "execution_count": null,
   "metadata": {},
   "outputs": [],
   "source": []
  },
  {
   "cell_type": "code",
   "execution_count": 10,
   "metadata": {},
   "outputs": [],
   "source": [
    "def evaluate_f1(pthfile, test_data, net, devices):\n",
    "    print(\"f1:\")\n",
    "    y_true = []\n",
    "    y_pred = []\n",
    "    if(net == 'Dino_resnet'):\n",
    "        net = model.get_Dino_net(devices)\n",
    "    elif(net == 'ResNet'):\n",
    "        net = model.get_ResNet_net(devices)\n",
    "    elif(net == 'Dino_vit'):\n",
    "        net = model.get_Dino_Vit_net(devices)\n",
    "    elif(net == 'vit'):\n",
    "        net = model.get_Vit_net(devices)\n",
    "    net_data = torch.load(pthfile)\n",
    "    net.load_state_dict(net_data)\n",
    "    net.eval()\n",
    "    net.to(devices[0])\n",
    "    for i in range(len(test_data)):\n",
    "        y_true.append(test_data[i][1])\n",
    "        x = test_data[i][0].unsqueeze(0).to(devices[0])\n",
    "        y_pred.append(int(net(x).argmax(axis=1)))\n",
    "    f1 = f1_score(y_true, y_pred)\n",
    "    print(f1)"
   ]
  },
  {
   "cell_type": "code",
   "execution_count": 24,
   "metadata": {},
   "outputs": [
    {
     "name": "stdout",
     "output_type": "stream",
     "text": [
      "Dino_resnet_batch1:\n"
     ]
    },
    {
     "name": "stderr",
     "output_type": "stream",
     "text": [
      "Using cache found in C:\\Users\\Ivan/.cache\\torch\\hub\\facebookresearch_dino_main\n"
     ]
    },
    {
     "name": "stdout",
     "output_type": "stream",
     "text": [
      "test accuracy is  0.9451371571072319\n"
     ]
    }
   ],
   "source": [
    "net = 'Dino_resnet'\n",
    "print('Dino_resnet_batch1:')\n",
    "evaluate_net(pthfile_Dino_resnet, test_data_batch1, net, devices)"
   ]
  },
  {
   "cell_type": "code",
   "execution_count": 13,
   "metadata": {},
   "outputs": [
    {
     "name": "stdout",
     "output_type": "stream",
     "text": [
      "ResNet_batch1:\n",
      "test accuracy is  0.9102244389027432\n"
     ]
    }
   ],
   "source": [
    "net = 'ResNet'\n",
    "print('ResNet_batch1:')\n",
    "evaluate_net(pthfile_resnet, test_data_batch1, net)"
   ]
  },
  {
   "cell_type": "code",
   "execution_count": 14,
   "metadata": {},
   "outputs": [
    {
     "name": "stdout",
     "output_type": "stream",
     "text": [
      "Dino_vit_batch1:\n"
     ]
    },
    {
     "name": "stderr",
     "output_type": "stream",
     "text": [
      "Using cache found in C:\\Users\\Ivan/.cache\\torch\\hub\\facebookresearch_dino_main\n"
     ]
    },
    {
     "name": "stdout",
     "output_type": "stream",
     "text": [
      "test accuracy is  0.9675810473815462\n"
     ]
    }
   ],
   "source": [
    "net = 'Dino_vit'\n",
    "print('Dino_vit_batch1:')\n",
    "evaluate_net(pthfile_Dino_Vit, test_data_batch1, net)"
   ]
  },
  {
   "cell_type": "code",
   "execution_count": 15,
   "metadata": {},
   "outputs": [
    {
     "name": "stdout",
     "output_type": "stream",
     "text": [
      "vit_batch1:\n"
     ]
    },
    {
     "name": "stderr",
     "output_type": "stream",
     "text": [
      "Using cache found in C:\\Users\\Ivan/.cache\\torch\\hub\\facebookresearch_deit_main\n"
     ]
    },
    {
     "name": "stdout",
     "output_type": "stream",
     "text": [
      "test accuracy is  0.9177057356608479\n"
     ]
    }
   ],
   "source": [
    "net = 'vit'\n",
    "print('vit_batch1:')\n",
    "evaluate_net(pthfile_Vit, test_data_batch1, net)"
   ]
  },
  {
   "cell_type": "code",
   "execution_count": 16,
   "metadata": {},
   "outputs": [
    {
     "name": "stdout",
     "output_type": "stream",
     "text": [
      "Dino_resnet_batch2:\n"
     ]
    },
    {
     "name": "stderr",
     "output_type": "stream",
     "text": [
      "Using cache found in C:\\Users\\Ivan/.cache\\torch\\hub\\facebookresearch_dino_main\n"
     ]
    },
    {
     "name": "stdout",
     "output_type": "stream",
     "text": [
      "test accuracy is  0.6669449081803005\n"
     ]
    }
   ],
   "source": [
    "net = 'Dino_resnet'\n",
    "print('Dino_resnet_batch2:')\n",
    "evaluate_net(pthfile_Dino_resnet, test_data_batch2, net)"
   ]
  },
  {
   "cell_type": "code",
   "execution_count": 17,
   "metadata": {},
   "outputs": [
    {
     "name": "stdout",
     "output_type": "stream",
     "text": [
      "ResNet_batch2:\n",
      "test accuracy is  0.7045075125208681\n"
     ]
    }
   ],
   "source": [
    "net = 'ResNet'\n",
    "print('ResNet_batch2:')\n",
    "evaluate_net(pthfile_resnet, test_data_batch2, net)"
   ]
  },
  {
   "cell_type": "code",
   "execution_count": 18,
   "metadata": {},
   "outputs": [
    {
     "name": "stdout",
     "output_type": "stream",
     "text": [
      "vit_batch2:\n"
     ]
    },
    {
     "name": "stderr",
     "output_type": "stream",
     "text": [
      "Using cache found in C:\\Users\\Ivan/.cache\\torch\\hub\\facebookresearch_dino_main\n"
     ]
    },
    {
     "name": "stdout",
     "output_type": "stream",
     "text": [
      "test accuracy is  0.7212020033388982\n"
     ]
    }
   ],
   "source": [
    "net = 'Dino_vit'\n",
    "print('vit_batch2:')\n",
    "evaluate_net(pthfile_Dino_Vit, test_data_batch2, net)"
   ]
  },
  {
   "cell_type": "code",
   "execution_count": 19,
   "metadata": {},
   "outputs": [
    {
     "name": "stdout",
     "output_type": "stream",
     "text": [
      "vit_batch2:\n"
     ]
    },
    {
     "name": "stderr",
     "output_type": "stream",
     "text": [
      "Using cache found in C:\\Users\\Ivan/.cache\\torch\\hub\\facebookresearch_deit_main\n"
     ]
    },
    {
     "name": "stdout",
     "output_type": "stream",
     "text": [
      "test accuracy is  0.6928213689482471\n"
     ]
    }
   ],
   "source": [
    "net = 'vit'\n",
    "print('vit_batch2:')\n",
    "evaluate_net(pthfile_Vit, test_data_batch2, net)"
   ]
  },
  {
   "cell_type": "code",
   "execution_count": 20,
   "metadata": {},
   "outputs": [
    {
     "name": "stdout",
     "output_type": "stream",
     "text": [
      "Dino_resnet_batch3:\n"
     ]
    },
    {
     "name": "stderr",
     "output_type": "stream",
     "text": [
      "Using cache found in C:\\Users\\Ivan/.cache\\torch\\hub\\facebookresearch_dino_main\n"
     ]
    },
    {
     "name": "stdout",
     "output_type": "stream",
     "text": [
      "test accuracy is  0.5644444444444444\n"
     ]
    }
   ],
   "source": [
    "net = 'Dino_resnet'\n",
    "print('Dino_resnet_batch3:')\n",
    "evaluate_net(pthfile_Dino_resnet, test_data_batch3, net)"
   ]
  },
  {
   "cell_type": "code",
   "execution_count": 21,
   "metadata": {},
   "outputs": [
    {
     "name": "stdout",
     "output_type": "stream",
     "text": [
      "ResNet_batch3:\n",
      "test accuracy is  0.7811111111111111\n"
     ]
    }
   ],
   "source": [
    "net = 'ResNet'\n",
    "print('ResNet_batch3:')\n",
    "evaluate_net(pthfile_resnet, test_data_batch3, net)"
   ]
  },
  {
   "cell_type": "code",
   "execution_count": 22,
   "metadata": {},
   "outputs": [
    {
     "name": "stdout",
     "output_type": "stream",
     "text": [
      "Dino_vit_batch3:\n"
     ]
    },
    {
     "name": "stderr",
     "output_type": "stream",
     "text": [
      "Using cache found in C:\\Users\\Ivan/.cache\\torch\\hub\\facebookresearch_dino_main\n"
     ]
    },
    {
     "name": "stdout",
     "output_type": "stream",
     "text": [
      "test accuracy is  0.8922222222222222\n"
     ]
    }
   ],
   "source": [
    "net = 'Dino_vit'\n",
    "print('Dino_vit_batch3:')\n",
    "evaluate_net(pthfile_Dino_Vit, test_data_batch3, net)"
   ]
  },
  {
   "cell_type": "code",
   "execution_count": 23,
   "metadata": {},
   "outputs": [
    {
     "name": "stdout",
     "output_type": "stream",
     "text": [
      "vit_batch3:\n"
     ]
    },
    {
     "name": "stderr",
     "output_type": "stream",
     "text": [
      "Using cache found in C:\\Users\\Ivan/.cache\\torch\\hub\\facebookresearch_deit_main\n"
     ]
    },
    {
     "name": "stdout",
     "output_type": "stream",
     "text": [
      "test accuracy is  0.8211111111111111\n"
     ]
    }
   ],
   "source": [
    "net = 'vit'\n",
    "print('vit_batch3:')\n",
    "evaluate_net(pthfile_Vit, test_data_batch3, net)"
   ]
  },
  {
   "cell_type": "code",
   "execution_count": null,
   "metadata": {},
   "outputs": [],
   "source": []
  },
  {
   "cell_type": "code",
   "execution_count": null,
   "metadata": {},
   "outputs": [],
   "source": []
  },
  {
   "cell_type": "code",
   "execution_count": 36,
   "metadata": {},
   "outputs": [
    {
     "name": "stdout",
     "output_type": "stream",
     "text": [
      "Dino_resnet_batch1:\n",
      "f1:\n"
     ]
    },
    {
     "name": "stderr",
     "output_type": "stream",
     "text": [
      "Using cache found in C:\\Users\\Ivan/.cache\\torch\\hub\\facebookresearch_dino_main\n",
      "Using cache found in C:\\Users\\Ivan/.cache\\torch\\hub\\facebookresearch_dino_main\n"
     ]
    },
    {
     "name": "stdout",
     "output_type": "stream",
     "text": [
      "0.9444444444444444\n"
     ]
    }
   ],
   "source": [
    "net = 'Dino_resnet'\n",
    "print('Dino_resnet_batch1:')\n",
    "evaluate_f1(pthfile_Dino_resnet, test_data_batch1, net)"
   ]
  },
  {
   "cell_type": "code",
   "execution_count": 15,
   "metadata": {},
   "outputs": [
    {
     "name": "stdout",
     "output_type": "stream",
     "text": [
      "ResNet_batch1:\n",
      "f1:\n",
      "0.9072164948453608\n"
     ]
    }
   ],
   "source": [
    "net = 'ResNet'\n",
    "print('ResNet_batch1:')\n",
    "evaluate_f1(pthfile_resnet, test_data_batch1, net)"
   ]
  },
  {
   "cell_type": "code",
   "execution_count": 16,
   "metadata": {},
   "outputs": [
    {
     "name": "stdout",
     "output_type": "stream",
     "text": [
      "Dino_vit_batch1:\n",
      "f1:\n"
     ]
    },
    {
     "name": "stderr",
     "output_type": "stream",
     "text": [
      "Using cache found in C:\\Users\\Ivan/.cache\\torch\\hub\\facebookresearch_dino_main\n"
     ]
    },
    {
     "name": "stdout",
     "output_type": "stream",
     "text": [
      "0.9675810473815462\n"
     ]
    }
   ],
   "source": [
    "net = 'Dino_vit'\n",
    "print('Dino_vit_batch1:')\n",
    "evaluate_f1(pthfile_Dino_Vit, test_data_batch1, net)"
   ]
  },
  {
   "cell_type": "code",
   "execution_count": 17,
   "metadata": {},
   "outputs": [
    {
     "name": "stdout",
     "output_type": "stream",
     "text": [
      "vit_batch1:\n",
      "f1:\n"
     ]
    },
    {
     "name": "stderr",
     "output_type": "stream",
     "text": [
      "Using cache found in C:\\Users\\Ivan/.cache\\torch\\hub\\facebookresearch_deit_main\n"
     ]
    },
    {
     "name": "stdout",
     "output_type": "stream",
     "text": [
      "0.9129287598944591\n"
     ]
    }
   ],
   "source": [
    "net = 'vit'\n",
    "print('vit_batch1:')\n",
    "evaluate_f1(pthfile_Vit, test_data_batch1, net)"
   ]
  },
  {
   "cell_type": "code",
   "execution_count": 18,
   "metadata": {},
   "outputs": [
    {
     "name": "stdout",
     "output_type": "stream",
     "text": [
      "Dino_resnet_batch2:\n",
      "f1:\n"
     ]
    },
    {
     "name": "stderr",
     "output_type": "stream",
     "text": [
      "Using cache found in C:\\Users\\Ivan/.cache\\torch\\hub\\facebookresearch_dino_main\n"
     ]
    },
    {
     "name": "stdout",
     "output_type": "stream",
     "text": [
      "0.6586826347305389\n",
      "ResNet_batch2:\n",
      "f1:\n",
      "0.7500000000000001\n",
      "Dino_vit_batch2:\n",
      "f1:\n"
     ]
    },
    {
     "name": "stderr",
     "output_type": "stream",
     "text": [
      "Using cache found in C:\\Users\\Ivan/.cache\\torch\\hub\\facebookresearch_dino_main\n"
     ]
    },
    {
     "name": "stdout",
     "output_type": "stream",
     "text": [
      "0.6812977099236641\n",
      "vit_batch2:\n",
      "f1:\n"
     ]
    },
    {
     "name": "stderr",
     "output_type": "stream",
     "text": [
      "Using cache found in C:\\Users\\Ivan/.cache\\torch\\hub\\facebookresearch_deit_main\n"
     ]
    },
    {
     "name": "stdout",
     "output_type": "stream",
     "text": [
      "0.7186544342507646\n"
     ]
    }
   ],
   "source": [
    "net = 'Dino_resnet'\n",
    "print('Dino_resnet_batch2:')\n",
    "evaluate_f1(pthfile_Dino_resnet, test_data_batch2, net)\n",
    "net = 'ResNet'\n",
    "print('ResNet_batch2:')\n",
    "evaluate_f1(pthfile_resnet, test_data_batch2, net)\n",
    "net = 'Dino_vit'\n",
    "print('Dino_vit_batch2:')\n",
    "evaluate_f1(pthfile_Dino_Vit, test_data_batch2, net)\n",
    "net = 'vit'\n",
    "print('vit_batch2:')\n",
    "evaluate_f1(pthfile_Vit, test_data_batch2, net)"
   ]
  },
  {
   "cell_type": "code",
   "execution_count": 19,
   "metadata": {},
   "outputs": [
    {
     "name": "stdout",
     "output_type": "stream",
     "text": [
      "Dino_resnet_batch3:\n",
      "f1:\n"
     ]
    },
    {
     "name": "stderr",
     "output_type": "stream",
     "text": [
      "Using cache found in C:\\Users\\Ivan/.cache\\torch\\hub\\facebookresearch_dino_main\n"
     ]
    },
    {
     "name": "stdout",
     "output_type": "stream",
     "text": [
      "0.6965944272445821\n",
      "ResNet_batch3：\n",
      "f1:\n",
      "0.770663562281723\n",
      "Dino_vit_batch3:\n",
      "f1:\n"
     ]
    },
    {
     "name": "stderr",
     "output_type": "stream",
     "text": [
      "Using cache found in C:\\Users\\Ivan/.cache\\torch\\hub\\facebookresearch_dino_main\n"
     ]
    },
    {
     "name": "stdout",
     "output_type": "stream",
     "text": [
      "0.8951351351351352\n",
      "vit_batch3:\n",
      "f1:\n"
     ]
    },
    {
     "name": "stderr",
     "output_type": "stream",
     "text": [
      "Using cache found in C:\\Users\\Ivan/.cache\\torch\\hub\\facebookresearch_deit_main\n"
     ]
    },
    {
     "name": "stdout",
     "output_type": "stream",
     "text": [
      "0.8432327166504381\n"
     ]
    }
   ],
   "source": [
    "net = 'Dino_resnet'\n",
    "print('Dino_resnet_batch3:')\n",
    "evaluate_f1(pthfile_Dino_resnet, test_data_batch3, net)\n",
    "net = 'ResNet'\n",
    "print('ResNet_batch3：')\n",
    "evaluate_f1(pthfile_resnet, test_data_batch3, net)\n",
    "net = 'Dino_vit'\n",
    "print('Dino_vit_batch3:')\n",
    "evaluate_f1(pthfile_Dino_Vit, test_data_batch3, net)\n",
    "net = 'vit'\n",
    "print('vit_batch3:')\n",
    "evaluate_f1(pthfile_Vit, test_data_batch3, net)"
   ]
  },
  {
   "cell_type": "code",
   "execution_count": 11,
   "metadata": {},
   "outputs": [
    {
     "name": "stdout",
     "output_type": "stream",
     "text": [
      "Dino_resnet_batch1:\n"
     ]
    },
    {
     "name": "stderr",
     "output_type": "stream",
     "text": [
      "Using cache found in C:\\Users\\Ivan/.cache\\torch\\hub\\facebookresearch_dino_main\n"
     ]
    },
    {
     "name": "stdout",
     "output_type": "stream",
     "text": [
      "Test Error: \n",
      " Accuracy: 94.5%, torch metrics acc: 94.5%\n",
      "\n",
      "recall of every test dataset class:  tensor(0.9452)\n",
      "precision of every test dataset class:  tensor(0.9455)\n",
      "auc: 0.9877861142158508\n",
      "***************************************************************\n",
      "ResNet_batch1:\n",
      "Test Error: \n",
      " Accuracy: 91.0%, torch metrics acc: 91.0%\n",
      "\n",
      "recall of every test dataset class:  tensor(0.9103)\n",
      "precision of every test dataset class:  tensor(0.9122)\n",
      "auc: 0.9750746488571167\n",
      "***************************************************************\n",
      "Dino_vit_batch1:\n"
     ]
    },
    {
     "name": "stderr",
     "output_type": "stream",
     "text": [
      "Using cache found in C:\\Users\\Ivan/.cache\\torch\\hub\\facebookresearch_dino_main\n"
     ]
    },
    {
     "name": "stdout",
     "output_type": "stream",
     "text": [
      "Test Error: \n",
      " Accuracy: 96.8%, torch metrics acc: 96.8%\n",
      "\n",
      "recall of every test dataset class:  tensor(0.9676)\n",
      "precision of every test dataset class:  tensor(0.9676)\n",
      "auc: 0.9956467151641846\n",
      "***************************************************************\n",
      "vit_batch1:\n"
     ]
    },
    {
     "name": "stderr",
     "output_type": "stream",
     "text": [
      "Using cache found in C:\\Users\\Ivan/.cache\\torch\\hub\\facebookresearch_deit_main\n"
     ]
    },
    {
     "name": "stdout",
     "output_type": "stream",
     "text": [
      "Test Error: \n",
      " Accuracy: 91.8%, torch metrics acc: 91.8%\n",
      "\n",
      "recall of every test dataset class:  tensor(0.9178)\n",
      "precision of every test dataset class:  tensor(0.9232)\n",
      "auc: 0.9788308143615723\n",
      "***************************************************************\n",
      "Dino_resnet_batch2:\n"
     ]
    },
    {
     "name": "stderr",
     "output_type": "stream",
     "text": [
      "Using cache found in C:\\Users\\Ivan/.cache\\torch\\hub\\facebookresearch_dino_main\n"
     ]
    },
    {
     "name": "stdout",
     "output_type": "stream",
     "text": [
      "Test Error: \n",
      " Accuracy: 66.7%, torch metrics acc: 66.7%\n",
      "\n",
      "recall of every test dataset class:  tensor(0.6673)\n",
      "precision of every test dataset class:  tensor(0.6678)\n",
      "auc: 0.7259125709533691\n",
      "***************************************************************\n",
      "ResNet_batch2:\n",
      "Test Error: \n",
      " Accuracy: 70.5%, torch metrics acc: 70.5%\n",
      "\n",
      "recall of every test dataset class:  tensor(0.7028)\n",
      "precision of every test dataset class:  tensor(0.7318)\n",
      "auc: 0.7860298156738281\n",
      "***************************************************************\n",
      "vit_batch2:\n"
     ]
    },
    {
     "name": "stderr",
     "output_type": "stream",
     "text": [
      "Using cache found in C:\\Users\\Ivan/.cache\\torch\\hub\\facebookresearch_dino_main\n"
     ]
    },
    {
     "name": "stdout",
     "output_type": "stream",
     "text": [
      "Test Error: \n",
      " Accuracy: 72.1%, torch metrics acc: 72.1%\n",
      "\n",
      "recall of every test dataset class:  tensor(0.7225)\n",
      "precision of every test dataset class:  tensor(0.7387)\n",
      "auc: 0.8398735523223877\n",
      "***************************************************************\n",
      "vit_batch2:\n"
     ]
    },
    {
     "name": "stderr",
     "output_type": "stream",
     "text": [
      "Using cache found in C:\\Users\\Ivan/.cache\\torch\\hub\\facebookresearch_deit_main\n"
     ]
    },
    {
     "name": "stdout",
     "output_type": "stream",
     "text": [
      "Test Error: \n",
      " Accuracy: 69.3%, torch metrics acc: 69.3%\n",
      "\n",
      "recall of every test dataset class:  tensor(0.6920)\n",
      "precision of every test dataset class:  tensor(0.6979)\n",
      "auc: 0.747533917427063\n",
      "***************************************************************\n",
      "Dino_resnet_batch3:\n"
     ]
    },
    {
     "name": "stderr",
     "output_type": "stream",
     "text": [
      "Using cache found in C:\\Users\\Ivan/.cache\\torch\\hub\\facebookresearch_dino_main\n"
     ]
    },
    {
     "name": "stdout",
     "output_type": "stream",
     "text": [
      "Test Error: \n",
      " Accuracy: 56.4%, torch metrics acc: 56.4%\n",
      "\n",
      "recall of every test dataset class:  tensor(0.5644)\n",
      "precision of every test dataset class:  tensor(0.7672)\n",
      "auc: 0.9254716634750366\n",
      "***************************************************************\n",
      "ResNet_batch3:\n",
      "Test Error: \n",
      " Accuracy: 78.1%, torch metrics acc: 78.1%\n",
      "\n",
      "recall of every test dataset class:  tensor(0.7811)\n",
      "precision of every test dataset class:  tensor(0.7835)\n",
      "auc: 0.8616493940353394\n",
      "***************************************************************\n",
      "Dino_vit_batch3:\n"
     ]
    },
    {
     "name": "stderr",
     "output_type": "stream",
     "text": [
      "Using cache found in C:\\Users\\Ivan/.cache\\torch\\hub\\facebookresearch_dino_main\n"
     ]
    },
    {
     "name": "stdout",
     "output_type": "stream",
     "text": [
      "Test Error: \n",
      " Accuracy: 89.2%, torch metrics acc: 89.2%\n",
      "\n",
      "recall of every test dataset class:  tensor(0.8922)\n",
      "precision of every test dataset class:  tensor(0.8934)\n",
      "auc: 0.9674518704414368\n",
      "***************************************************************\n",
      "vit_batch3:\n"
     ]
    },
    {
     "name": "stderr",
     "output_type": "stream",
     "text": [
      "Using cache found in C:\\Users\\Ivan/.cache\\torch\\hub\\facebookresearch_deit_main\n"
     ]
    },
    {
     "name": "stdout",
     "output_type": "stream",
     "text": [
      "Test Error: \n",
      " Accuracy: 82.1%, torch metrics acc: 82.1%\n",
      "\n",
      "recall of every test dataset class:  tensor(0.8211)\n",
      "precision of every test dataset class:  tensor(0.8489)\n",
      "auc: 0.9272839426994324\n"
     ]
    }
   ],
   "source": [
    "\n",
    "net = 'Dino_resnet'\n",
    "print('Dino_resnet_batch1:')\n",
    "evaluate_net1(pthfile_Dino_resnet, test_data_batch1_dataloader, net, devices)\n",
    "\n",
    "\n",
    "print(\"***************************************************************\")\n",
    "\n",
    "\n",
    "net = 'ResNet'\n",
    "print('ResNet_batch1:')\n",
    "evaluate_net1(pthfile_resnet, test_data_batch1_dataloader, net, devices)\n",
    "\n",
    "\n",
    "print(\"***************************************************************\")\n",
    "\n",
    "\n",
    "net = 'Dino_vit'\n",
    "print('Dino_vit_batch1:')\n",
    "evaluate_net1(pthfile_Dino_Vit, test_data_batch1_dataloader, net, devices)\n",
    "\n",
    "\n",
    "print(\"***************************************************************\")\n",
    "\n",
    "\n",
    "net = 'vit'\n",
    "print('vit_batch1:')\n",
    "evaluate_net1(pthfile_Vit, test_data_batch1_dataloader, net, devices)\n",
    "\n",
    "\n",
    "print(\"***************************************************************\")\n",
    "\n",
    "\n",
    "net = 'Dino_resnet'\n",
    "print('Dino_resnet_batch2:')\n",
    "evaluate_net1(pthfile_Dino_resnet, test_data_batch2_dataloader, net, devices)\n",
    "\n",
    "\n",
    "print(\"***************************************************************\")\n",
    "\n",
    "\n",
    "net = 'ResNet'\n",
    "print('ResNet_batch2:')\n",
    "evaluate_net1(pthfile_resnet, test_data_batch2_dataloader, net, devices)\n",
    "\n",
    "\n",
    "print(\"***************************************************************\")\n",
    "\n",
    "\n",
    "net = 'Dino_vit'\n",
    "print('Dino_vit_batch2:')\n",
    "evaluate_net1(pthfile_Dino_Vit, test_data_batch2_dataloader, net, devices)\n",
    "\n",
    "\n",
    "print(\"***************************************************************\")\n",
    "\n",
    "\n",
    "net = 'vit'\n",
    "print('vit_batch2:')\n",
    "evaluate_net1(pthfile_Vit, test_data_batch2_dataloader, net, devices)\n",
    "\n",
    "\n",
    "print(\"***************************************************************\")\n",
    "\n",
    "\n",
    "net = 'Dino_resnet'\n",
    "print('Dino_resnet_batch3:')\n",
    "evaluate_net1(pthfile_Dino_resnet, test_data_batch3_dataloader, net, devices)\n",
    "\n",
    "\n",
    "print(\"***************************************************************\")\n",
    "\n",
    "\n",
    "net = 'ResNet'\n",
    "print('ResNet_batch3:')\n",
    "evaluate_net1(pthfile_resnet, test_data_batch3_dataloader, net, devices)\n",
    "\n",
    "\n",
    "print(\"***************************************************************\")\n",
    "\n",
    "\n",
    "net = 'Dino_vit'\n",
    "print('Dino_vit_batch3:')\n",
    "evaluate_net1(pthfile_Dino_Vit, test_data_batch3_dataloader, net, devices)\n",
    "\n",
    "\n",
    "print(\"***************************************************************\")\n",
    "\n",
    "\n",
    "net = 'vit'\n",
    "print('vit_batch3:')\n",
    "evaluate_net1(pthfile_Vit, test_data_batch3_dataloader, net, devices)"
   ]
  },
  {
   "cell_type": "code",
   "execution_count": null,
   "metadata": {},
   "outputs": [],
   "source": []
  }
 ],
 "metadata": {
  "kernelspec": {
   "display_name": "Python [conda env:pytorch_env]",
   "language": "python",
   "name": "conda-env-pytorch_env-py"
  },
  "language_info": {
   "codemirror_mode": {
    "name": "ipython",
    "version": 3
   },
   "file_extension": ".py",
   "mimetype": "text/x-python",
   "name": "python",
   "nbconvert_exporter": "python",
   "pygments_lexer": "ipython3",
   "version": "3.8.13"
  }
 },
 "nbformat": 4,
 "nbformat_minor": 4
}
